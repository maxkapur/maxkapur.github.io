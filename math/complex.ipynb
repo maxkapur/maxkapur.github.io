{
 "cells": [
  {
   "cell_type": "markdown",
   "metadata": {},
   "source": [
    "# Complex methods\n",
    "\n",
    "By <a href=\"https://www.maxkapur.com/\">Max Kapur</a>. Updated Apr. 18, 2020.\n",
    "\n",
    "Principal reference: Y. D. Chong, <a href=\"http://www1.spms.ntu.edu.sg/~ydchong/teaching.html\">Complex Methods for the Sciences</a>."
   ]
  },
  {
   "cell_type": "code",
   "execution_count": 93,
   "metadata": {},
   "outputs": [],
   "source": [
    "import matplotlib.pyplot as plt\n",
    "import numpy as np\n",
    "from scipy.integrate import quad"
   ]
  },
  {
   "cell_type": "markdown",
   "metadata": {},
   "source": [
    "## Contour integration example\n",
    "\n",
    "Problem 8.3 is to calculate\n",
    "\n",
    "$$I = \\int_{-\\infty}^\\infty \\frac {dx}{x^4 +1}$$\n",
    "\n",
    "Making an analytic continuation, we see that\n",
    "\n",
    "$$\\int_\\Gamma \\frac {dz}{z^4 +1} = I + \\int_\\text{arc} \\frac {dz}{z^4 +1}$$\n",
    "\n",
    "where the arc is a semicircle about the origin in the upper complex halfplane. $\\frac {1}{z^4 +1}$ tends to zero as $z \\to \\infty$, and the arc term is zero by Jordan&rsquo;s lemma.\n",
    "\n",
    "We evaluate the contour integral on the left using Cauchy&rsquo;s integral theorem. Notice that \n",
    "\n",
    "$$\\begin{align}\n",
    "\\frac {1}{z^4 +1}\n",
    "& = \\frac{1}{\n",
    "\\left[z- \\frac{\\left(\\sqrt{2}+ i\\sqrt{2}\\right)}{2}\\right]\n",
    "\\left[z- \\frac{\\left(-\\sqrt{2}+ i\\sqrt{2}\\right)}{2}\\right]\n",
    "\\left[z- \\frac{\\left(-\\sqrt{2}- i\\sqrt{2}\\right)}{2}\\right]\n",
    "\\left[z- \\frac{\\left(\\sqrt{2} - i\\sqrt{2}\\right)}{2}\\right]} \\\\\n",
    "& = \\frac{1}{\n",
    "\\left[z- e^{i\\pi/4}\\right]\n",
    "\\left[z- e^{3i\\pi/4}\\right]\n",
    "\\left[z+ e^{i\\pi/4}\\right]\n",
    "\\left[z+ e^{3i\\pi/4}\\right]} \\\\\n",
    "& = \\frac{1}{\n",
    "\\left[z- z_1\\right]\n",
    "\\left[z- z_2\\right]\n",
    "\\left[z- z_3\\right]\n",
    "\\left[z- z_4\\right]}\n",
    "\\end{align}$$\n",
    "\n",
    "where the four terms in the denominator correspond to the four complex fourth roots of $-1$. Those singular points, along with the contour we&rsquo;ve chosen, are shown below."
   ]
  },
  {
   "cell_type": "code",
   "execution_count": 90,
   "metadata": {},
   "outputs": [
    {
     "data": {
      "text/plain": [
       "([], [])"
      ]
     },
     "execution_count": 90,
     "metadata": {},
     "output_type": "execute_result"
    },
    {
     "data": {
      "image/png": "[encoded data removed]",
      "text/plain": [
       "<Figure size 864x504 with 1 Axes>"
      ]
     },
     "metadata": {},
     "output_type": "display_data"
    }
   ],
   "source": [
    "fig, ax = plt.subplots(1,1, figsize = (12,7))\n",
    "\n",
    "z = np.array([np.sqrt(.5) * (1+1j),np.sqrt(.5) *(-1+1j),np.sqrt(.5) *(-1-1j),np.sqrt(.5) * (1-1j)])\n",
    "ax.scatter(z.real, z.imag)\n",
    "for i, w in enumerate(z):\n",
    "    ax.annotate(r'$z_{{{}}}$'.format(i+1),[ w.real+.1, w.imag], va = 'center')\n",
    "    \n",
    "curve = np.array([-5, 0])\n",
    "curve = np.vstack([curve,np.array([[5*np.cos(t), 5*np.sin(t)] for t in np.linspace(0,np.pi, 50)])])\n",
    "ax.plot(*curve.T, color='crimson')\n",
    "ax.arrow(0,0,1e-5,0,head_width=(.2), ec=None, fc = 'crimson', lw=0)\n",
    "ax.arrow(0,5,-1e-5,0,head_width=(.2), ec=None, fc = 'crimson', lw=0)\n",
    "\n",
    "ax.axhline(0, color = 'black', lw=.5), ax.axvline(0, color = 'black', lw=.5)\n",
    "ax.set_xlim(-5.5, 5.5), ax.set_ylim(-1.5, 5.5)\n",
    "ax.set_xlabel('real'), ax.set_ylabel('imaginary')\n",
    "ax.set_xticks([]), ax.set_yticks([])"
   ]
  },
  {
   "cell_type": "markdown",
   "metadata": {},
   "source": [
    "The area enclosed by the contour is analytic everywhere except at the points $z_1$ and $z_2$. By Cauchy&rsquo;s integral theorem, \n",
    "\n",
    "$$\\begin{align}\n",
    "\\int_\\Gamma \\frac {dz}{z^4 +1} = I\n",
    "& = 2\\pi i \\Biggl(\n",
    "\\text{Res}\\bigl[f(z_1)\\bigr]_{z=z_1} + \n",
    "\\text{Res}\\bigl[f(z_2)\\bigr]_{z=z_2}\n",
    "\\Biggr) \\\\\n",
    "& = 2\\pi i \\Biggl(\n",
    "\\Bigl[\n",
    "\\frac{1}{\n",
    "\\left(z- e^{3i\\pi/4}\\right)\n",
    "\\left(z+ e^{i\\pi/4}\\right)\n",
    "\\left(z+ e^{3i\\pi/4}\\right)}\n",
    "\\Bigr]_{z=e^{t\\pi /4}}\n",
    "+\n",
    "\\Bigl[\n",
    "\\frac{1}{\n",
    "\\left(z- e^{i\\pi/4}\\right)\n",
    "\\left(z+ e^{i\\pi/4}\\right)\n",
    "\\left(z+ e^{3i\\pi/4}\\right)}\n",
    "\\Bigr]_{z=e^{t\\pi /4}}\n",
    "\\Biggr) \\\\\n",
    "& = 2\\pi i \\Biggl(\n",
    "\\frac{1}{\n",
    "\\left(\\sqrt{2}e^0\\right)\n",
    "\\left(2e^{i\\pi/4}\\right)\n",
    "\\left(\\sqrt{2}e^{i\\pi/2}\\right)}\n",
    "+\n",
    "\\frac{1}{\n",
    "\\left(-\\sqrt{2}e^0\\right)\n",
    "\\left(2e^{3i\\pi/4}\\right)\n",
    "\\left(\\sqrt{2}e^{i\\pi/2}\\right)}\n",
    "\\Biggr) \\\\\n",
    "& = 2\\pi i \\Biggl(\n",
    "\\frac{1}{4 e^{i\\pi /4} e^{i\\pi /2}}\n",
    "-\n",
    "\\frac{1}{4 e^{3i\\pi /4} e^{i\\pi /2}}\n",
    "\\Biggr) \\\\\n",
    "& = \\frac{1}{2}\\pi i \\bigl(e^{i\\pi /4} - e^{3i\\pi /4}\n",
    "\\bigr)e^{-i\\pi /2} \\\\\n",
    "& = \\frac{1}{2}\\pi i \\left(\\sqrt{2}\n",
    "\\right)e^{-i\\pi /2} \\\\\n",
    "& = \\frac{\\pi}{\\sqrt{2}}e^{i\\pi/2 - i\\pi/2} \\\\\n",
    "& = \\frac{\\pi}{\\sqrt{2}} \\approx 2.221\n",
    "\\end{align}$$\n",
    "\n",
    "Check:"
   ]
  },
  {
   "cell_type": "code",
   "execution_count": 94,
   "metadata": {},
   "outputs": [
    {
     "data": {
      "text/plain": [
       "(2.2214414690791835, 4.477661903466016e-09)"
      ]
     },
     "execution_count": 94,
     "metadata": {},
     "output_type": "execute_result"
    }
   ],
   "source": [
    "def f(x): return 1 /(x**4 +1)\n",
    "quad(f, -np.inf, np.inf)"
   ]
  },
  {
   "cell_type": "code",
   "execution_count": 95,
   "metadata": {},
   "outputs": [
    {
     "name": "stderr",
     "output_type": "stream",
     "text": [
      "[NbConvertApp] Converting notebook complex.ipynb to html\n",
      "[NbConvertApp] Writing 309238 bytes to complex.html\n"
     ]
    }
   ],
   "source": [
    "!jupyter nbconvert complex.ipynb"
   ]
  }
 ],
 "metadata": {
  "kernelspec": {
   "display_name": "Python 3",
   "language": "python",
   "name": "python3"
  },
  "language_info": {
   "codemirror_mode": {
    "name": "ipython",
    "version": 3
   },
   "file_extension": ".py",
   "mimetype": "text/x-python",
   "name": "python",
   "nbconvert_exporter": "python",
   "pygments_lexer": "ipython3",
   "version": "3.7.3"
  }
 },
 "nbformat": 4,
 "nbformat_minor": 2
}
