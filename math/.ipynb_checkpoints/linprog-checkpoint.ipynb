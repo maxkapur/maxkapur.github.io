{
 "cells": [
  {
   "cell_type": "markdown",
   "metadata": {},
   "source": [
    "# Linear programming tools and demonstrations\n",
    "By <a href=\"https://www.maxkapur.com/\">Max Kapur</a>. Updated Feb. 9, 2020."
   ]
  },
  {
   "cell_type": "markdown",
   "metadata": {},
   "source": [
    "## Pivoting a system of linear equations in Sympy\n",
    "Reference: Robert J. Vanderbei, *Linear Programming: Foundations and Extensions,* ch. 2.\n",
    "\n",
    "Rewritten in matrix form, problem 2.3 has us maximize\n",
    "\n",
    "$$\\zeta =  2x_1 - 6x_2 $$\n",
    "\n",
    "subject to \n",
    "\n",
    "$$\\begin{align}\n",
    "\\begin{bmatrix} -1 & -1 & -1 \\\\\n",
    "2 & -1 & 1\\\\ \\end{bmatrix} x &\\leq \\begin{bmatrix} -2 \\\\ 1 \\end{bmatrix} \\\\ \\\\\n",
    "x &\\geq 0\\end{align}$$\n",
    "\n",
    "(The vector $x$ is of length 3.)\n",
    "\n",
    "Since both $c$ and $b$ contain a mix of negative values, the starting dictionary is neither primal nor dual feasible; we need to use a Phase I algorithm to generate a feasible starting dictionary. \n",
    "\n",
    "My purpose, however, is to simply use sympy to develop a general tool that allows us to pivot the dictionary and test various bases. "
   ]
  },
  {
   "cell_type": "code",
   "execution_count": 54,
   "metadata": {},
   "outputs": [
    {
     "data": {
      "text/latex": [
       "$\\displaystyle \\left[\\begin{matrix}w_{1}\\\\w_{2}\\end{matrix}\\right] = \\left[\\begin{matrix}x_{1} + x_{2} + x_{3} - 2\\\\- 2 x_{1} + x_{2} - x_{3} + 1\\end{matrix}\\right]$"
      ],
      "text/plain": [
       "⎡w₁⎤   ⎡ x₁ + x₂ + x₃ - 2  ⎤\n",
       "⎢  ⎥ = ⎢                   ⎥\n",
       "⎣w₂⎦   ⎣-2⋅x₁ + x₂ - x₃ + 1⎦"
      ]
     },
     "execution_count": 54,
     "metadata": {},
     "output_type": "execute_result"
    }
   ],
   "source": [
    "# 2.3\n",
    "\n",
    "import sympy as sp\n",
    "sp.init_printing()\n",
    "\n",
    "# Variables and slack variables\n",
    "x1, x2, x3, w1, w2 = sp.symbols(\" x1, x2, x3, w1, w2 \")\n",
    "x = sp.Matrix([x1, x2, x3])\n",
    "w = sp.Matrix([w1, w2])\n",
    "\n",
    "# Data\n",
    "c = sp.Matrix([2, -6,0])\n",
    "A = sp.Matrix([[1, 1, 1],[-2, 1, -1]])*-1\n",
    "b = sp.Matrix([-2, 1])\n",
    "\n",
    "# Constraints\n",
    "con = sp.Eq(w, b - (A*x))\n",
    "con"
   ]
  },
  {
   "cell_type": "code",
   "execution_count": 86,
   "metadata": {},
   "outputs": [],
   "source": [
    "# Returns the above dictionary pivoted with the given x_i or w_j as the basis.\n",
    "def pivot(basic):\n",
    "    constraints = sp.solve(con, basic)\n",
    "    return{'obj': (c.T * x).subs(constraints), # Objective function\n",
    "           'con': constraints}                 # Pivoted constraint functions"
   ]
  },
  {
   "cell_type": "markdown",
   "metadata": {},
   "source": [
    "I happen to know that the optimal solution has $x_2$ and $x_3$ basic, but in the simplex method we would swap variables into the basis one at a time according to the set of pivoting rules chosen."
   ]
  },
  {
   "cell_type": "code",
   "execution_count": 81,
   "metadata": {},
   "outputs": [
    {
     "data": {
      "text/latex": [
       "$\\displaystyle \\left[\\begin{matrix}- 3 w_{1} - 3 w_{2} - x_{1} - 3\\end{matrix}\\right]$"
      ],
      "text/plain": [
       "[-3⋅w₁ - 3⋅w₂ - x₁ - 3]"
      ]
     },
     "execution_count": 81,
     "metadata": {},
     "output_type": "execute_result"
    }
   ],
   "source": [
    "pivot((x2, x3))['obj']"
   ]
  },
  {
   "cell_type": "code",
   "execution_count": 85,
   "metadata": {},
   "outputs": [
    {
     "data": {
      "image/png": "[encoded data removed]",
      "text/latex": [
       "$\\displaystyle \\left\\{ x_{2} : \\frac{w_{1}}{2} + \\frac{w_{2}}{2} + \\frac{x_{1}}{2} + \\frac{1}{2}, \\  x_{3} : \\frac{w_{1}}{2} - \\frac{w_{2}}{2} - \\frac{3 x_{1}}{2} + \\frac{3}{2}\\right\\}$"
      ],
      "text/plain": [
       "⎧    w₁   w₂   x₁   1      w₁   w₂   3⋅x₁   3⎫\n",
       "⎨x₂: ── + ── + ── + ─, x₃: ── - ── - ──── + ─⎬\n",
       "⎩    2    2    2    2      2    2     2     2⎭"
      ]
     },
     "execution_count": 85,
     "metadata": {},
     "output_type": "execute_result"
    }
   ],
   "source": [
    "pivot((x2, x3))['con']"
   ]
  },
  {
   "cell_type": "markdown",
   "metadata": {},
   "source": [
    "Note that the constant terms in $x_2$ and $x_3$ are positive, while the cost coefficients in the current dictionary&rsquo;s objective function are all negative. That implies that this dictionary is optimal, with $x = (0, 1/2, 3/2)$ and $\\zeta = -3$."
   ]
  },
  {
   "cell_type": "markdown",
   "metadata": {},
   "source": [
    "## Upper and lower bounds for a worst-case simplex problem\n",
    "\n",
    "Problem 9 asks, \n",
    "> Show that, for any integer *n,*\n",
    "> $$\\frac{1}{2n} 2^{2n} \\leq \\binom{2n}{n} \\leq 2^{2n}$$\n",
    "\n",
    "These are tighter bounds than those <a href=\"https://math.stackexchange.com/questions/1352338/proof-for-the-upper-bound-and-lower-bound-for-binomial-coefficients\">commonly given for the binomial coefficient</a>, so the proof is worthwhile.\n",
    "    \n",
    "We have \n",
    "\n",
    "$$\\begin{align}\n",
    "\\binom{2n}{n} = \\frac{(2n)!}{n!\\,n!} = \\left(\\frac{2n}{n}\\right)\\left(\\frac{2n-1}{n}\\right)\\left(\\frac{2n-2}{n-1}\\right)\\left(\\frac{2n-3}{n-1} \\right)\\left(\\frac{2n-4}{n-2}\\right)\\left(\\frac{2n-5}{n-2}\\right)\\biggl(\\frac{\\quad\\cdots\\quad}{\\cdots}\\biggr)\\left(\\frac{2}{1}\\right)\\left(\\frac{1}{1}\\right)\n",
    "\\end{align}$$\n",
    "\n",
    "On the right, where I have spliced together the $n!$s in the denominator, note that for the $n$ &ldquo;even&rdquo; terms, \n",
    "\n",
    "$$\\begin{align}\n",
    "\\left\\lbrace\\frac{2n}{n},  \\frac{2n-2}{n-1}, \\frac{2n-4}{n-2},  \\cdots,  \\frac{2}{1}\\right\\rbrace = 2\n",
    "\\end{align}$$\n",
    "\n",
    "while for the $n$ &ldquo;odd&rdquo; terms, \n",
    "\n",
    "$$\\begin{align}\n",
    "\\left\\lbrace\\frac{2n-1}{n} ,  \\frac{2n-3}{n-1}, \\frac{2n-5}{n-2} , \\cdots , \\frac{1}{1}\\right\\rbrace  \\leq 2\n",
    "\\end{align}$$\n",
    "\n",
    "Thus, the entire expression has\n",
    "\n",
    "$$\\begin{align}\n",
    "\\binom{2n}{n} \\leq (2)(2) \\cdots (2)(2) = 2^{2n}\n",
    "\\end{align}$$\n",
    "\n",
    "and the upper bound is established.\n",
    "\n",
    "For the lower bound, it suffices to show that $ \\binom{2n}{n}\\left(2n\\right) \\geq  2^{2n} $. We have\n",
    "\n",
    "\n",
    "$$\\begin{align}\n",
    "\\binom{2n}{n}\\left(2n\\right) &= \\frac{(2n)!}{n!\\,n!} \\left(2n\\right) \\\\\n",
    "&= \\left(\\frac{2n}{n}\\right)\\left(\\frac{2n-1}{n}\\right)\\left(\\frac{2n-2}{n-1}\\right)\\left(\\frac{2n-3}{n-1} \\right)\\left(\\frac{2n-4}{n-2}\\right)\\left(\\frac{2n-5}{n-2}\\right)\\biggl(\\frac{\\quad\\cdots\\quad}{\\cdots}\\biggr)\\left(\\frac{2}{1}\\right)\\left(\\frac{1}{1}\\right) \\left(2n\\right)\\\\\n",
    "&= \\Biggl[\\left(\\frac{2n}{n}\\right)\\left(\\frac{2n-2}{n-1}\\right)\\left(\\frac{2n-4}{n-2}\\right)\\biggl(\\frac{\\quad\\cdots\\quad}{\\cdots}\\biggr)\\left(\\frac{2}{1}\\right)\\Biggr]\n",
    "\\Biggl[\\left(\\frac{2n-1}{n}\\right)\\left(\\frac{2n-3}{n-1}\\right)\\left(\\frac{2n-5}{n-2}\\right)\\biggl(\\frac{\\quad\\cdots\\quad}{\\cdots}\\biggr)\\left(\\frac{1}{1}\\right)\\Biggr]  \\left(2n\\right)\\\\\n",
    "\\end{align}$$\n",
    "\n",
    "The first group equals $2^n$. Now pull $2n$ inside the second group and nudge each numerator over to the right. Then increase all but the first of the denominators in the second group by $1/2$ (which decreases the value of the expression) and factor $2$ out of the numerators:\n",
    "\n",
    "$$\\begin{align}\n",
    "\\binom{2n}{n}\\left(2n\\right) &= \\Biggl[\\;2^n\\;\\Biggr]\n",
    "\\Biggl[\\left(\\frac{2n}{n}\\right)\\left(\\frac{2n-1}{n-1}\\right)\\left(\\frac{2n-3}{n-2}\\right)\\biggl(\\frac{\\quad\\cdots\\quad}{\\cdots}\\biggr)\\left(\\frac{3}{1}\\right)\\Biggr] \\\\\n",
    "&\\geq \\Biggl[\\;2^n\\;\\Biggr]\n",
    "\\Biggl[\\left(\\frac{2n}{n}\\right)\\left(\\frac{2\\left(n-\\frac{1}{2}\\right)}{n-\\frac{1}{2}}\\right)\\left(\\frac{2\\left(n-\\frac{3}{2}\\right)}{n-\\frac{3}{2}}\\right)\\biggl(\\frac{\\quad\\cdots\\quad}{\\cdots}\\biggr)\\left(\\frac{3}{\\frac{3}{2}}\\right)\\Biggr] = 2^n \\cdot 2^n = 2^{2n} \\\\\n",
    "\\end{align}$$\n",
    "\n",
    "This establishes the lower bound."
   ]
  },
  {
   "cell_type": "code",
   "execution_count": 87,
   "metadata": {},
   "outputs": [
    {
     "name": "stderr",
     "output_type": "stream",
     "text": [
      "[NbConvertApp] Converting notebook linprog.ipynb to html\n",
      "[NbConvertApp] Writing 286624 bytes to linprog.html\n"
     ]
    }
   ],
   "source": [
    "!jupyter nbconvert linprog.ipynb"
   ]
  }
 ],
 "metadata": {
  "kernelspec": {
   "display_name": "Python 3",
   "language": "python",
   "name": "python3"
  },
  "language_info": {
   "codemirror_mode": {
    "name": "ipython",
    "version": 3
   },
   "file_extension": ".py",
   "mimetype": "text/x-python",
   "name": "python",
   "nbconvert_exporter": "python",
   "pygments_lexer": "ipython3",
   "version": "3.7.3"
  }
 },
 "nbformat": 4,
 "nbformat_minor": 2
}
