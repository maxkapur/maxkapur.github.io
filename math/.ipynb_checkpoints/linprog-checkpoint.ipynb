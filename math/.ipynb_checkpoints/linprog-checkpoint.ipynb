{
 "cells": [
  {
   "cell_type": "markdown",
   "metadata": {},
   "source": [
    "# Linear programming tools and demonstrations\n",
    "By <a href=\"https://www.maxkapur.com/\">Max Kapur</a>. Updated Feb. 25, 2020."
   ]
  },
  {
   "cell_type": "code",
   "execution_count": 252,
   "metadata": {},
   "outputs": [],
   "source": [
    "import sympy as sp\n",
    "sp.init_printing()\n",
    "import numpy as np\n",
    "import scipy.optimize as optimize\n",
    "import matplotlib as mpl\n",
    "import matplotlib.pyplot as plt"
   ]
  },
  {
   "cell_type": "markdown",
   "metadata": {},
   "source": [
    "## Pivoting a system of linear equations in Sympy\n",
    "Reference: Robert J. Vanderbei, *Linear Programming: Foundations and Extensions,* ch. 2."
   ]
  },
  {
   "cell_type": "code",
   "execution_count": 27,
   "metadata": {},
   "outputs": [],
   "source": [
    "def dict_helper(c, A, b):\n",
    "    # Create vectors of variables (x) and slack variables (w)\n",
    "    x = sp.MatrixSymbol('x', len(c),1)\n",
    "    w = sp.MatrixSymbol('w', len(b),1)\n",
    "    # Return the objective function and constraint functions as a dictionary compatible with \n",
    "    return x, w, {'obj': c.T * x, 'con': sp.Eq(w, b - (A*x))}\n",
    "\n",
    "# Returns the above dictionary pivoted with the given x_i or w_j values as the basis.\n",
    "def pivot(seed_dict, basic):\n",
    "    assert len(basic) == seed_dict['con'].lhs.shape[0], \"Number of variables in basis must equal number of constraints ({})\".format(seed_dict['con'].lhs.shape[0])\n",
    "    con_as_mutable = sp.Eq(seed_dict['con'].lhs.as_mutable(), seed_dict['con'].rhs.as_mutable())\n",
    "    constraints = sp.solve(con_as_mutable, basic)\n",
    "    return{# Objective function\n",
    "           'obj': sp.Matrix(seed_dict['obj']).subs(constraints).expand(),\n",
    "           # New constraint functions\n",
    "           'con': sp.Eq(sp.Matrix(list(constraints.keys())), sp.Matrix(list(constraints.values())))} "
   ]
  },
  {
   "cell_type": "code",
   "execution_count": 3,
   "metadata": {},
   "outputs": [],
   "source": [
    "# pivot() is compatible with its own output, so you can chain like so:\n",
    "# pivot( pivot(seed_dict, (x[1], w[0])), (x[1], x[2]))['con']"
   ]
  },
  {
   "cell_type": "code",
   "execution_count": 4,
   "metadata": {},
   "outputs": [],
   "source": [
    "## A few pitfalls (will return errors):\n",
    "\n",
    "# Need to choose the right number of basic variables\n",
    "# pivot(seed_dict, (x[1], x[2], x[0]))['con']\n",
    "\n",
    "# x1 and x2 are used as symbols but not defined as variables\n",
    "# pivot(seed_dict, (x1, x2))['con']"
   ]
  },
  {
   "cell_type": "markdown",
   "metadata": {},
   "source": [
    "#### Example\n",
    "\n",
    "Rewritten in matrix form and indicing from 0, problem 2.3 has us maximize\n",
    "\n",
    "$$\\zeta =  2x_0 - 6x_1 $$\n",
    "\n",
    "subject to \n",
    "\n",
    "$$\\begin{align}\n",
    "\\begin{bmatrix} -1 & -1 & -1 \\\\\n",
    "2 & -1 & 1\\\\ \\end{bmatrix} x &\\leq \\begin{bmatrix} -2 \\\\ 1 \\end{bmatrix} \\\\ \\\\\n",
    "x &\\geq 0\\end{align}$$\n",
    "\n",
    "(The vector $x$ is of length 3.)\n",
    "\n",
    "Since both $c$ and $b$ contain a mix of positive and negative values, the starting dictionary is neither primal nor dual feasible; we need to use a Phase I algorithm to generate a feasible starting dictionary."
   ]
  },
  {
   "cell_type": "code",
   "execution_count": 5,
   "metadata": {},
   "outputs": [
    {
     "data": {
      "image/png": "[encoded data removed]",
      "text/latex": [
       "$\\displaystyle \\left( x, \\  w\\right)$"
      ],
      "text/plain": [
       "(x, w)"
      ]
     },
     "execution_count": 5,
     "metadata": {},
     "output_type": "execute_result"
    }
   ],
   "source": [
    "c = sp.Matrix([2, -6,0])\n",
    "A = sp.Matrix([[1, 1, 1],[-2, 1, -1]])*-1\n",
    "b = sp.Matrix([-2, 1])\n",
    "\n",
    "x, w, seed_dict = dict_helper(c, A, b)\n",
    "x, w"
   ]
  },
  {
   "cell_type": "code",
   "execution_count": 6,
   "metadata": {},
   "outputs": [
    {
     "data": {
      "text/latex": [
       "$\\displaystyle \\left[\\begin{matrix}2 & -6 & 0\\end{matrix}\\right] x$"
      ],
      "text/plain": [
       "[2  -6  0]⋅x"
      ]
     },
     "execution_count": 6,
     "metadata": {},
     "output_type": "execute_result"
    }
   ],
   "source": [
    "seed_dict['obj']"
   ]
  },
  {
   "cell_type": "code",
   "execution_count": 7,
   "metadata": {},
   "outputs": [
    {
     "data": {
      "text/latex": [
       "$\\displaystyle w = \\left[\\begin{matrix}-2\\\\1\\end{matrix}\\right] + \\left[\\begin{matrix}1 & 1 & 1\\\\-2 & 1 & -1\\end{matrix}\\right] x$"
      ],
      "text/plain": [
       "    ⎡1   1  1 ⎤     ⎡-2⎤\n",
       "w = ⎢         ⎥⋅x + ⎢  ⎥\n",
       "    ⎣-2  1  -1⎦     ⎣1 ⎦"
      ]
     },
     "execution_count": 7,
     "metadata": {},
     "output_type": "execute_result"
    }
   ],
   "source": [
    "seed_dict['con']"
   ]
  },
  {
   "cell_type": "markdown",
   "metadata": {},
   "source": [
    "I happen to know that the optimal solution has $x_1$ and $x_2$ basic, but in the simplex method we would swap variables into the basis one at a time according to the set of pivoting rules chosen."
   ]
  },
  {
   "cell_type": "code",
   "execution_count": 8,
   "metadata": {},
   "outputs": [
    {
     "data": {
      "text/latex": [
       "$\\displaystyle \\left[\\begin{matrix}- 3 w_{0, 0} - 3 w_{1, 0} - x_{0, 0} - 3\\end{matrix}\\right]$"
      ],
      "text/plain": [
       "[-3⋅w₀₀ - 3⋅w₁₀ - x₀₀ - 3]"
      ]
     },
     "execution_count": 8,
     "metadata": {},
     "output_type": "execute_result"
    }
   ],
   "source": [
    "pivot(seed_dict, (x[1], x[2]))['obj']"
   ]
  },
  {
   "cell_type": "code",
   "execution_count": 9,
   "metadata": {},
   "outputs": [
    {
     "data": {
      "text/latex": [
       "$\\displaystyle \\left[\\begin{matrix}x_{1, 0}\\\\x_{2, 0}\\end{matrix}\\right] = \\left[\\begin{matrix}\\frac{w_{0, 0}}{2} + \\frac{w_{1, 0}}{2} + \\frac{x_{0, 0}}{2} + \\frac{1}{2}\\\\\\frac{w_{0, 0}}{2} - \\frac{w_{1, 0}}{2} - \\frac{3 x_{0, 0}}{2} + \\frac{3}{2}\\end{matrix}\\right]$"
      ],
      "text/plain": [
       "        ⎡ w₀₀   w₁₀   x₀₀   1 ⎤\n",
       "        ⎢ ─── + ─── + ─── + ─ ⎥\n",
       "⎡x₁₀⎤   ⎢  2     2     2    2 ⎥\n",
       "⎢   ⎥ = ⎢                     ⎥\n",
       "⎣x₂₀⎦   ⎢w₀₀   w₁₀   3⋅x₀₀   3⎥\n",
       "        ⎢─── - ─── - ───── + ─⎥\n",
       "        ⎣ 2     2      2     2⎦"
      ]
     },
     "execution_count": 9,
     "metadata": {},
     "output_type": "execute_result"
    }
   ],
   "source": [
    "pivot(seed_dict, (x[1], x[2]))['con']"
   ]
  },
  {
   "cell_type": "markdown",
   "metadata": {},
   "source": [
    "Note that the constant terms in $x_1$ and $x_2$ are positive, while the cost coefficients in the current dictionary&rsquo;s objective function are all negative. That implies that this dictionary is optimal, with $x = (0, 1/2, 3/2)$ and $\\zeta = -3$."
   ]
  },
  {
   "cell_type": "markdown",
   "metadata": {},
   "source": [
    "## Upper and lower bounds for a worst-case simplex problem\n",
    "Reference: Robert J. Vanderbei, *Linear Programming: Foundations and Extensions,* ch. 4.\n",
    "\n",
    "Problem 9 asks, \n",
    "> Show that, for any integer *n,*\n",
    "> $$\\frac{1}{2n} 2^{2n} \\leq \\binom{2n}{n} \\leq 2^{2n}$$\n",
    "\n",
    "These are tighter bounds than those <a href=\"https://math.stackexchange.com/questions/1352338/proof-for-the-upper-bound-and-lower-bound-for-binomial-coefficients\">commonly given for the binomial coefficient</a>, so the proof is worthwhile.\n",
    "    \n",
    "We have \n",
    "\n",
    "$$\\begin{align}\n",
    "\\binom{2n}{n} = \\frac{(2n)!}{n!\\,n!} = \\left(\\frac{2n}{n}\\right)\\left(\\frac{2n-1}{n}\\right)\\left(\\frac{2n-2}{n-1}\\right)\\left(\\frac{2n-3}{n-1} \\right)\\left(\\frac{2n-4}{n-2}\\right)\\left(\\frac{2n-5}{n-2}\\right)\\biggl(\\frac{\\quad\\cdots\\quad}{\\cdots}\\biggr)\\left(\\frac{2}{1}\\right)\\left(\\frac{1}{1}\\right)\n",
    "\\end{align}$$\n",
    "\n",
    "On the right, where I have spliced together the $n!$s in the denominator, note that for the $n$ &ldquo;even&rdquo; terms, \n",
    "\n",
    "$$\\begin{align}\n",
    "\\left\\lbrace\\frac{2n}{n},  \\frac{2n-2}{n-1}, \\frac{2n-4}{n-2},  \\cdots,  \\frac{2}{1}\\right\\rbrace = 2\n",
    "\\end{align}$$\n",
    "\n",
    "while for the $n$ &ldquo;odd&rdquo; terms, \n",
    "\n",
    "$$\\begin{align}\n",
    "\\left\\lbrace\\frac{2n-1}{n} ,  \\frac{2n-3}{n-1}, \\frac{2n-5}{n-2} , \\cdots , \\frac{1}{1}\\right\\rbrace  \\leq 2\n",
    "\\end{align}$$\n",
    "\n",
    "Thus, the entire expression has\n",
    "\n",
    "$$\\begin{align}\n",
    "\\binom{2n}{n} \\leq (2)(2) \\cdots (2)(2) = 2^{2n}\n",
    "\\end{align}$$\n",
    "\n",
    "and the upper bound is established.\n",
    "\n",
    "For the lower bound, it suffices to show that $ \\binom{2n}{n}\\left(2n\\right) \\geq  2^{2n} $. We have\n",
    "\n",
    "\n",
    "$$\\begin{align}\n",
    "\\binom{2n}{n}\\left(2n\\right) &= \\frac{(2n)!}{n!\\,n!} \\left(2n\\right) \\\\\n",
    "&= \\left(\\frac{2n}{n}\\right)\\left(\\frac{2n-1}{n}\\right)\\left(\\frac{2n-2}{n-1}\\right)\\left(\\frac{2n-3}{n-1} \\right)\\left(\\frac{2n-4}{n-2}\\right)\\left(\\frac{2n-5}{n-2}\\right)\\biggl(\\frac{\\quad\\cdots\\quad}{\\cdots}\\biggr)\\left(\\frac{2}{1}\\right)\\left(\\frac{1}{1}\\right) \\left(2n\\right)\\\\\n",
    "&= \\Biggl[\\left(\\frac{2n}{n}\\right)\\left(\\frac{2n-2}{n-1}\\right)\\left(\\frac{2n-4}{n-2}\\right)\\biggl(\\frac{\\quad\\cdots\\quad}{\\cdots}\\biggr)\\left(\\frac{2}{1}\\right)\\Biggr]\n",
    "\\Biggl[\\left(\\frac{2n-1}{n}\\right)\\left(\\frac{2n-3}{n-1}\\right)\\left(\\frac{2n-5}{n-2}\\right)\\biggl(\\frac{\\quad\\cdots\\quad}{\\cdots}\\biggr)\\left(\\frac{1}{1}\\right)\\Biggr]  \\left(2n\\right)\\\\\n",
    "\\end{align}$$\n",
    "\n",
    "The first group equals $2^n$. Now pull $2n$ inside the second group and nudge each numerator over to the right. Then increase all but the first of the denominators in the second group by $1/2$ (which decreases the value of the expression) and factor $2$ out of the numerators:\n",
    "\n",
    "$$\\begin{align}\n",
    "\\binom{2n}{n}\\left(2n\\right) &= \\Biggl[\\;2^n\\;\\Biggr]\n",
    "\\Biggl[\\left(\\frac{2n}{n}\\right)\\left(\\frac{2n-1}{n-1}\\right)\\left(\\frac{2n-3}{n-2}\\right)\\biggl(\\frac{\\quad\\cdots\\quad}{\\cdots}\\biggr)\\left(\\frac{3}{1}\\right)\\Biggr] \\\\\n",
    "&\\geq \\Biggl[\\;2^n\\;\\Biggr]\n",
    "\\Biggl[\\left(\\frac{2n}{n}\\right)\\left(\\frac{2\\left(n-\\frac{1}{2}\\right)}{n-\\frac{1}{2}}\\right)\\left(\\frac{2\\left(n-\\frac{3}{2}\\right)}{n-\\frac{3}{2}}\\right)\\biggl(\\frac{\\quad\\cdots\\quad}{\\cdots}\\biggr)\\left(\\frac{3}{\\frac{3}{2}}\\right)\\Biggr] = 2^n \\cdot 2^n = 2^{2n} \\\\\n",
    "\\end{align}$$\n",
    "\n",
    "This establishes the lower bound."
   ]
  },
  {
   "cell_type": "markdown",
   "metadata": {},
   "source": [
    "## The self-dual simplex method\n",
    "Reference: Robert J. Vanderbei, *Linear Programming: Foundations and Extensions,* ch. 7.\n",
    "\n",
    "In the self-dual simplex method, given an infeasible and/or inoptimal starting dictionary, we subtract $\\mu \\bar z_\\mathcal{N}$ from each of the terms in $c$ and add $\\mu \\bar x_\\mathcal{B}$ to each of the terms in $b$. $\\bar z_\\mathcal{N}$ and $\\bar x_\\mathcal{B}$ are vectors of arbitrary positive constants. Then, for some positive minimal value of $\\mu$, the dictionary is dual feasible. We pivot (it may be a dual or primal pivot) around the variable whose coefficient provides that minimum to yield a new dictionary which is dual feasible with some lower minimum for $\\mu$. Keep iterating until that minumum dips below 0; then setting $\\mu =0$ yields the optimal dictionary for the original problem.\n",
    "\n",
    "I solve problem 2.3, shown above, using my pivot tool and the self-dual simplex method.  "
   ]
  },
  {
   "cell_type": "code",
   "execution_count": 10,
   "metadata": {},
   "outputs": [],
   "source": [
    "def dict_helper_selfdual(c, A, b):\n",
    "    x = sp.MatrixSymbol('x', len(c),1)\n",
    "    w = sp.MatrixSymbol('w', len(b),1)\n",
    "    X = sp.Matrix([sp.Matrix(i) for i in [x, w]]) # Useful for formatting\n",
    "    \n",
    "    mu = sp.symbols('mu')\n",
    "\n",
    "    # Update c and b with mu perturbations\n",
    "    # As the text suggests, coefs of mu drawn from continuous interval (0.5, 1.5)\n",
    "    c -= sp.Matrix((np.random.rand(len(c))+0.5))*mu\n",
    "    b += sp.Matrix((np.random.rand(len(b))+0.5))*mu\n",
    "\n",
    "    # Uses 1 as mu coefs; creates degenerate pivots\n",
    "    # c -= sp.Matrix([1]*len(c))*mu\n",
    "    # b += sp.Matrix([1]*len(b))*mu\n",
    "\n",
    "    seed_dict = {'obj': sp.Matrix(c.T * x),\n",
    "                 'con': sp.Eq(sp.Matrix(w), sp.Matrix(b - A*x))}\n",
    "    \n",
    "    return x, w, X, mu, seed_dict"
   ]
  },
  {
   "cell_type": "code",
   "execution_count": 11,
   "metadata": {},
   "outputs": [],
   "source": [
    "# Function that picks apart a dictionary and discovers bounds on mu\n",
    "def discover_bounds(seed_dict):\n",
    "    # Initialize bounds dictionaries\n",
    "    lb = {}\n",
    "    ub = {}\n",
    "    \n",
    "    # Bounds on mu from basic equations\n",
    "    check = [[k, \n",
    "              i.as_coefficients_dict()[mu],\n",
    "              i.as_coefficients_dict()[1]] for i, k in zip(sp.Matrix(seed_dict['con'].rhs),sp.Matrix(seed_dict['con'].lhs))]\n",
    "    for v, x, b in check: \n",
    "        if sp.sign(x) == -1:\n",
    "            ub[v] =  -b/x\n",
    "        if sp.sign(x) ==  1:     # if x == 0 do nothing\n",
    "            lb[v] =  -b/x\n",
    "        \n",
    "    # Constraints on mu from coeffs in objective function\n",
    "    nbvars = X[[i not in seed_dict['con'].lhs for i in X],:]\n",
    "    check2 = [[i,\n",
    "               sp.Matrix(seed_dict['obj'])[0].coeff(i).coeff(mu),\n",
    "               sp.Matrix(seed_dict['obj'])[0].coeff(i).subs(mu,0)] for i in nbvars]\n",
    "    for v, z, c in check2: \n",
    "        if sp.sign(z) == -1:\n",
    "            lb[v] = -c/z\n",
    "        if sp.sign(z) ==  1:     # if z == 0 do nothing\n",
    "            ub[v] = -c/z\n",
    "    return lb, ub"
   ]
  },
  {
   "cell_type": "code",
   "execution_count": 12,
   "metadata": {},
   "outputs": [],
   "source": [
    "# Given the output of the previous function, find the tightest bounds\n",
    "# and indicate which variable they came from. Returns only the mu-value\n",
    "# for the lower bound, which we will use in the ratio test.\n",
    "def get_bounds(seed_dict):\n",
    "    lb, ub = discover_bounds(seed_dict)\n",
    "    if lb == {}: lower = -sp.oo\n",
    "    if lb != {}: lower = max(lb.values())\n",
    "    if ub == {}: upper = sp.oo\n",
    "    if ub != {}: upper = min(ub.values())\n",
    "    if upper < lower:\n",
    "        raise Warning('Bad pivot; problem may be unbounded or infeasible')\n",
    "    print('Lower bound: {}\\nUpper bound: {}\\nVariable to swap: {}'.format(lower, upper, max(lb, key = lb.get)))\n",
    "    return max(lb, key = lb.get), lower"
   ]
  },
  {
   "cell_type": "code",
   "execution_count": 13,
   "metadata": {},
   "outputs": [],
   "source": [
    "def primal_rt(seed_dict, var, test_mu):\n",
    "    ratios = {k:-i.coeff(var)\n",
    "               / (i.subs({j: 0 for j in X}).subs(mu, test_mu))\n",
    "              for i,k in zip(seed_dict['con'].rhs, seed_dict['con'].lhs)}\n",
    "    print('Leaving variable: {}'.format(max(ratios, key = ratios.get)))\n",
    "    print(ratios)\n",
    "    return max(ratios, key = ratios.get)"
   ]
  },
  {
   "cell_type": "code",
   "execution_count": 14,
   "metadata": {},
   "outputs": [],
   "source": [
    "def dual_rt(seed_dict, var, test_mu):\n",
    "    # Identify the working row\n",
    "    where = np.where([var==i for i in seed_dict['con'].lhs])[0][0]\n",
    "    # Identify the nonbasic variables\n",
    "    nbvars = X[[i not in seed_dict['con'].lhs for i in X],:]\n",
    "    ratios = {j: (-seed_dict['con'].rhs[where].coeff(j)\n",
    "                  / (seed_dict['obj'][0].coeff(j)).subs(mu, test_mu)) for j in nbvars}\n",
    "    print('Entering variable: {}'.format(max(ratios, key = ratios.get)))\n",
    "    print(ratios)\n",
    "    return max(ratios, key = ratios.get)"
   ]
  },
  {
   "cell_type": "code",
   "execution_count": 15,
   "metadata": {},
   "outputs": [],
   "source": [
    "def selfdual_wizard(seed_dict):\n",
    "    # Current bounds on mu\n",
    "    v, t = get_bounds(seed_dict)\n",
    "    \n",
    "    # Optimality if lower bound below zero\n",
    "    if t <= 0:\n",
    "        print('Optimal dictionary')\n",
    "        zeta = seed_dict['obj'][0].subs(mu,0).subs({j:0 for j in X})\n",
    "        nbvals = {a:b for a, b in zip(seed_dict['con'].lhs, seed_dict['con'].rhs.subs(mu,0).subs({j:0 for j in X}))}\n",
    "        solution = dict(zip(X,[nbvals[j] if j in seed_dict['con'].lhs else 0 for j in X]))\n",
    "        return seed_dict, solution, zeta\n",
    "    \n",
    "    else:\n",
    "        # If the bound is provided by a basic variable, perform dual rt\n",
    "        if v in seed_dict['con'].lhs:\n",
    "            new_basis = seed_dict['con'].lhs.subs(v, dual_rt(seed_dict, v, t))\n",
    "            print('Dual pivot')\n",
    "\n",
    "        # If the bound is provided by a coefficient, perform primal rt\n",
    "        if v not in seed_dict['con'].lhs:\n",
    "            new_basis = seed_dict['con'].lhs.subs(primal_rt(seed_dict, v, t), v)\n",
    "            print('Primal pivot')\n",
    "        \n",
    "        print('New basis: {}\\n'.format(new_basis))\n",
    "        next_dict = pivot(seed_dict, new_basis)\n",
    "        return selfdual_wizard(next_dict)"
   ]
  },
  {
   "cell_type": "code",
   "execution_count": 16,
   "metadata": {},
   "outputs": [],
   "source": [
    "# Data for problem 2.3\n",
    "c = sp.Matrix([2, -6,0])\n",
    "A = -sp.Matrix([[1, 1, 1],[-2, 1, -1]])\n",
    "b = sp.Matrix([-2, 1])\n",
    "\n",
    "np.random.seed(678)\n",
    "x, w, X, mu, seed_dict = dict_helper_selfdual(c, A, b)"
   ]
  },
  {
   "cell_type": "markdown",
   "metadata": {},
   "source": [
    "Now that we have set things up, we begin **iteration 1**."
   ]
  },
  {
   "cell_type": "code",
   "execution_count": 17,
   "metadata": {},
   "outputs": [
    {
     "data": {
      "text/latex": [
       "$\\displaystyle \\left[\\begin{array}{c}- 1.20046431722907 \\mu x_{2, 0} + \\left(2 - 1.021890900429 \\mu\\right) x_{0, 0} + \\left(- 1.05011567051768 \\mu - 6\\right) x_{1, 0}\\end{array}\\right]$"
      ],
      "text/plain": [
       "[-1.20046431722907⋅μ⋅x₂₀ + (2 - 1.021890900429⋅μ)⋅x₀₀ + (-1.05011567051768⋅μ -\n",
       " 6)⋅x₁₀]"
      ]
     },
     "execution_count": 17,
     "metadata": {},
     "output_type": "execute_result"
    }
   ],
   "source": [
    "sp.Matrix(seed_dict['obj'])"
   ]
  },
  {
   "cell_type": "code",
   "execution_count": 18,
   "metadata": {},
   "outputs": [
    {
     "data": {
      "text/latex": [
       "$\\displaystyle \\left[\\begin{matrix}w_{0, 0}\\\\w_{1, 0}\\end{matrix}\\right] = \\left[\\begin{matrix}1.03139003667243 \\mu + x_{0, 0} + x_{1, 0} + x_{2, 0} - 2\\\\0.812296306730348 \\mu - 2 x_{0, 0} + x_{1, 0} - x_{2, 0} + 1\\end{matrix}\\right]$"
      ],
      "text/plain": [
       "⎡w₀₀⎤   ⎡ 1.03139003667243⋅μ + x₀₀ + x₁₀ + x₂₀ - 2  ⎤\n",
       "⎢   ⎥ = ⎢                                           ⎥\n",
       "⎣w₁₀⎦   ⎣0.812296306730348⋅μ - 2⋅x₀₀ + x₁₀ - x₂₀ + 1⎦"
      ]
     },
     "execution_count": 18,
     "metadata": {},
     "output_type": "execute_result"
    }
   ],
   "source": [
    "seed_dict['con']"
   ]
  },
  {
   "cell_type": "code",
   "execution_count": 19,
   "metadata": {},
   "outputs": [
    {
     "data": {
      "image/png": "[encoded data removed]",
      "text/latex": [
       "$\\displaystyle \\left( \\left\\{ w_{0, 0} : 1.93913061876435, \\  w_{1, 0} : -1.23107786126124, \\  x_{0, 0} : 1.95715609089031, \\  x_{1, 0} : -5.71365628420931, \\  x_{2, 0} : 0\\right\\}, \\  \\left\\{ \\right\\}\\right)$"
      ],
      "text/plain": [
       "({w₀₀: 1.93913061876435, w₁₀: -1.23107786126124, x₀₀: 1.95715609089031, x₁₀: -\n",
       "5.71365628420931, x₂₀: 0}, {})"
      ]
     },
     "execution_count": 19,
     "metadata": {},
     "output_type": "execute_result"
    }
   ],
   "source": [
    "discover_bounds(seed_dict)"
   ]
  },
  {
   "cell_type": "code",
   "execution_count": 20,
   "metadata": {},
   "outputs": [
    {
     "name": "stdout",
     "output_type": "stream",
     "text": [
      "Lower bound: 1.95715609089031\n",
      "Upper bound: oo\n",
      "Variable to swap: x[0, 0]\n"
     ]
    }
   ],
   "source": [
    "v, t = get_bounds(seed_dict)"
   ]
  },
  {
   "cell_type": "markdown",
   "metadata": {},
   "source": [
    "Under dual feasibility, we need nonpositive coefficients in front of the basic variables and nonnegative values in $b$. For this dictionary, $\\mu \\in [1.957, \\infty)$. \n",
    "\n",
    "The lower bound is provided by coefficient of $x_0$. Since $x_0$ is currently not in the basis, it is the entering variable, and we use the primal ratio test to determine the leaving variable. (If the lower bound is provided by one of the equations for a basic variable, then that variable will *leave* the basis and the dual ratio test will find the entering variable.)"
   ]
  },
  {
   "cell_type": "code",
   "execution_count": 21,
   "metadata": {},
   "outputs": [
    {
     "name": "stdout",
     "output_type": "stream",
     "text": [
      "Leaving variable: w[1, 0]\n",
      "{w[0, 0]: -53.7886221568534, w[1, 0]: 0.772263190052573}\n"
     ]
    },
    {
     "data": {
      "image/png": "[encoded data removed]",
      "text/latex": [
       "$\\displaystyle w_{1, 0}$"
      ],
      "text/plain": [
       "w₁₀"
      ]
     },
     "execution_count": 21,
     "metadata": {},
     "output_type": "execute_result"
    }
   ],
   "source": [
    "primal_rt(seed_dict, v, t)"
   ]
  },
  {
   "cell_type": "markdown",
   "metadata": {},
   "source": [
    "The leaving variable is $w_1$. Then the new basis is $(w_0, x_0)$. Begin **iteration 2**."
   ]
  },
  {
   "cell_type": "code",
   "execution_count": 22,
   "metadata": {},
   "outputs": [
    {
     "name": "stdout",
     "output_type": "stream",
     "text": [
      "Lower bound: 1.04345053953715\n",
      "Upper bound: 1.95715609089031\n",
      "Variable to swap: w[0, 0]\n"
     ]
    }
   ],
   "source": [
    "iter2 = pivot(seed_dict, (w[0], x[0]))\n",
    "v, t = get_bounds(iter2)"
   ]
  },
  {
   "cell_type": "code",
   "execution_count": 23,
   "metadata": {
    "scrolled": true
   },
   "outputs": [
    {
     "name": "stdout",
     "output_type": "stream",
     "text": [
      "Entering variable: x[2, 0]\n",
      "{x[1, 0]: 0.226282225901966, x[2, 0]: 0.290785783557954, w[1, 0]: -1.07099934327413}\n"
     ]
    },
    {
     "data": {
      "image/png": "[encoded data removed]",
      "text/latex": [
       "$\\displaystyle x_{2, 0}$"
      ],
      "text/plain": [
       "x₂₀"
      ]
     },
     "execution_count": 23,
     "metadata": {},
     "output_type": "execute_result"
    }
   ],
   "source": [
    "# Swap variable is currently in the basis, so do a dual pivot\n",
    "dual_rt(iter2, v, t)"
   ]
  },
  {
   "cell_type": "markdown",
   "metadata": {},
   "source": [
    "$\\mu \\in [1.043, 1.957]$. $w_0$ leaves, $x_2$ enters, and the new basis is $(x_2, x_0)$. Begin **iteration 3**. "
   ]
  },
  {
   "cell_type": "code",
   "execution_count": 24,
   "metadata": {},
   "outputs": [
    {
     "name": "stdout",
     "output_type": "stream",
     "text": [
      "Lower bound: 0.542391607758162\n",
      "Upper bound: 1.04345053953715\n",
      "Variable to swap: x[0, 0]\n"
     ]
    }
   ],
   "source": [
    "iter3 = pivot(seed_dict, (x[2], x[0]))\n",
    "v, t = get_bounds(iter3)"
   ]
  },
  {
   "cell_type": "code",
   "execution_count": 25,
   "metadata": {},
   "outputs": [
    {
     "name": "stdout",
     "output_type": "stream",
     "text": [
      "Entering variable: x[1, 0]\n",
      "{x[1, 0]: 1.15959593636984, w[0, 0]: -0.363903866891824, w[1, 0]: -0.476904305955854}\n"
     ]
    },
    {
     "data": {
      "image/png": "[encoded data removed]",
      "text/latex": [
       "$\\displaystyle x_{1, 0}$"
      ],
      "text/plain": [
       "x₁₀"
      ]
     },
     "execution_count": 25,
     "metadata": {},
     "output_type": "execute_result"
    }
   ],
   "source": [
    "dual_rt(iter3, v, t)"
   ]
  },
  {
   "cell_type": "markdown",
   "metadata": {},
   "source": [
    "$\\mu \\in [0.542, 1.043]$. $x_0$ leaves, $x_1$ enters, and the new basis is $(x_2, x_1)$. Begin **iteration 4**. "
   ]
  },
  {
   "cell_type": "code",
   "execution_count": 26,
   "metadata": {},
   "outputs": [
    {
     "name": "stdout",
     "output_type": "stream",
     "text": [
      "Lower bound: -2.66597945092684\n",
      "Upper bound: 0.542391607758162\n",
      "Variable to swap: w[0, 0]\n"
     ]
    }
   ],
   "source": [
    "iter4 = pivot(seed_dict, (x[2], x[1]))\n",
    "v, t = get_bounds(iter4)"
   ]
  },
  {
   "cell_type": "markdown",
   "metadata": {},
   "source": [
    "The lower bound has dipped below 0. This is our stopping condition, and subbing in $\\mu = 0$ reveals the **optimal dictionary**."
   ]
  },
  {
   "cell_type": "code",
   "execution_count": 27,
   "metadata": {},
   "outputs": [
    {
     "data": {
      "text/latex": [
       "$\\displaystyle \\left[\\begin{matrix}- 3.0 w_{0, 0} - 3.0 w_{1, 0} - 1.0 x_{0, 0} - 3.0\\end{matrix}\\right]$"
      ],
      "text/plain": [
       "[-3.0⋅w₀₀ - 3.0⋅w₁₀ - 1.0⋅x₀₀ - 3.0]"
      ]
     },
     "execution_count": 27,
     "metadata": {},
     "output_type": "execute_result"
    }
   ],
   "source": [
    "iter4['obj'].subs(mu,0)"
   ]
  },
  {
   "cell_type": "code",
   "execution_count": 28,
   "metadata": {},
   "outputs": [
    {
     "data": {
      "text/latex": [
       "$\\displaystyle \\left[\\begin{matrix}x_{2, 0}\\\\x_{1, 0}\\end{matrix}\\right] = \\left[\\begin{matrix}0.5 w_{0, 0} - 0.5 w_{1, 0} - 1.5 x_{0, 0} + 1.5\\\\0.5 w_{0, 0} + 0.5 w_{1, 0} + 0.5 x_{0, 0} + 0.5\\end{matrix}\\right]$"
      ],
      "text/plain": [
       "⎡x₂₀⎤   ⎡0.5⋅w₀₀ - 0.5⋅w₁₀ - 1.5⋅x₀₀ + 1.5⎤\n",
       "⎢   ⎥ = ⎢                                 ⎥\n",
       "⎣x₁₀⎦   ⎣0.5⋅w₀₀ + 0.5⋅w₁₀ + 0.5⋅x₀₀ + 0.5⎦"
      ]
     },
     "execution_count": 28,
     "metadata": {},
     "output_type": "execute_result"
    }
   ],
   "source": [
    "iter4['con'].subs(mu,0)"
   ]
  },
  {
   "cell_type": "markdown",
   "metadata": {},
   "source": [
    "As expected, optimality is achieved with $x = (0, 0.5, 1.5)$ and $\\zeta = -3$."
   ]
  },
  {
   "cell_type": "markdown",
   "metadata": {},
   "source": [
    "#### Using my recursive self-dual wizard\n",
    "\n",
    "We can do all these steps at once using the recursive self-dual wizard. For completeness&rsquo; sake, I have reinput the problem data so you can see how it works.\n",
    "\n",
    "If the problem is infeasible or unbounded, the wizard may loop forever, but it will raise a warning indicating that you should look closer."
   ]
  },
  {
   "cell_type": "code",
   "execution_count": 29,
   "metadata": {},
   "outputs": [],
   "source": [
    "# Data for problem 2.3\n",
    "c = sp.Matrix([2, -6,0])\n",
    "A = -sp.Matrix([[1, 1, 1],[-2, 1, -1]])\n",
    "b = sp.Matrix([-2, 1])\n",
    "\n",
    "x, w, X, mu, seed_dict = dict_helper_selfdual(c, A, b)"
   ]
  },
  {
   "cell_type": "code",
   "execution_count": 30,
   "metadata": {},
   "outputs": [
    {
     "name": "stdout",
     "output_type": "stream",
     "text": [
      "Lower bound: 3.52673251169697\n",
      "Upper bound: oo\n",
      "Variable to swap: x[0, 0]\n",
      "Leaving variable: w[1, 0]\n",
      "{w[0, 0]: -0.991528221335118, w[1, 0]: 0.456002369891880}\n",
      "Primal pivot\n",
      "New basis: Matrix([[w[0, 0]], [x[0, 0]]])\n",
      "\n",
      "Lower bound: 1.12519018185871\n",
      "Upper bound: 3.52673251169697\n",
      "Variable to swap: w[0, 0]\n",
      "Entering variable: x[2, 0]\n",
      "{x[1, 0]: 0.217360912839214, x[2, 0]: 0.224310135594531, w[1, 0]: -0.734264074357267}\n",
      "Dual pivot\n",
      "New basis: Matrix([[x[2, 0]], [x[0, 0]]])\n",
      "\n",
      "Lower bound: 0.551527105819130\n",
      "Upper bound: 1.12519018185871\n",
      "Variable to swap: x[0, 0]\n",
      "Entering variable: x[1, 0]\n",
      "{x[1, 0]: 1.77861967117297, w[0, 0]: -0.312024425266030, w[1, 0]: -0.408821731019794}\n",
      "Dual pivot\n",
      "New basis: Matrix([[x[2, 0]], [x[1, 0]]])\n",
      "\n",
      "Lower bound: -2.15689933013727\n",
      "Upper bound: 0.551527105819129\n",
      "Variable to swap: w[0, 0]\n",
      "Optimal dictionary\n"
     ]
    }
   ],
   "source": [
    "opt_dic, opt_X, opt_zeta = selfdual_wizard(seed_dict)"
   ]
  },
  {
   "cell_type": "code",
   "execution_count": 31,
   "metadata": {},
   "outputs": [
    {
     "data": {
      "text/latex": [
       "$\\displaystyle \\left[\\begin{matrix}- 3.0 w_{0, 0} - 3.0 w_{1, 0} - 1.0 x_{0, 0} - 3.0\\end{matrix}\\right]$"
      ],
      "text/plain": [
       "[-3.0⋅w₀₀ - 3.0⋅w₁₀ - 1.0⋅x₀₀ - 3.0]"
      ]
     },
     "execution_count": 31,
     "metadata": {},
     "output_type": "execute_result"
    }
   ],
   "source": [
    "# Sub mu=0 to see optimal dictionary\n",
    "opt_dic['obj'].subs(mu,0)"
   ]
  },
  {
   "cell_type": "code",
   "execution_count": 32,
   "metadata": {},
   "outputs": [
    {
     "data": {
      "text/latex": [
       "$\\displaystyle \\left[\\begin{matrix}x_{2, 0}\\\\x_{1, 0}\\end{matrix}\\right] = \\left[\\begin{matrix}0.5 w_{0, 0} - 0.5 w_{1, 0} - 1.5 x_{0, 0} + 1.5\\\\0.5 w_{0, 0} + 0.5 w_{1, 0} + 0.5 x_{0, 0} + 0.5\\end{matrix}\\right]$"
      ],
      "text/plain": [
       "⎡x₂₀⎤   ⎡0.5⋅w₀₀ - 0.5⋅w₁₀ - 1.5⋅x₀₀ + 1.5⎤\n",
       "⎢   ⎥ = ⎢                                 ⎥\n",
       "⎣x₁₀⎦   ⎣0.5⋅w₀₀ + 0.5⋅w₁₀ + 0.5⋅x₀₀ + 0.5⎦"
      ]
     },
     "execution_count": 32,
     "metadata": {},
     "output_type": "execute_result"
    }
   ],
   "source": [
    "opt_dic['con'].subs(mu,0)"
   ]
  },
  {
   "cell_type": "code",
   "execution_count": 33,
   "metadata": {},
   "outputs": [
    {
     "data": {
      "image/png": "[encoded data removed]",
      "text/latex": [
       "$\\displaystyle \\left( \\left\\{ w_{0, 0} : 0, \\  w_{1, 0} : 0, \\  x_{0, 0} : 0, \\  x_{1, 0} : 0.5, \\  x_{2, 0} : 1.5\\right\\}, \\  -3.0\\right)$"
      ],
      "text/plain": [
       "({w₀₀: 0, w₁₀: 0, x₀₀: 0, x₁₀: 0.5, x₂₀: 1.5}, -3.0)"
      ]
     },
     "execution_count": 33,
     "metadata": {},
     "output_type": "execute_result"
    }
   ],
   "source": [
    "# Optimal solution\n",
    "opt_X, opt_zeta"
   ]
  },
  {
   "cell_type": "markdown",
   "metadata": {},
   "source": [
    "## Proof that $\\xi^*(b)$ is concave for arbitrary $b$\n",
    "\n",
    "\n",
    "Reference: Robert J. Vanderbei, *Linear Programming: Foundations and Extensions,* ch. 10.\n",
    "\n",
    "Exercise 2: \n",
    "\n",
    ">For each $b \\in \\mathbb{R}^m$, let $\\xi^*(b)$ denote the optimal objective function value for the following linear program: \n",
    ">\n",
    ">$$\\begin{align}&\\text{maximize} & c^T x \\\\&\\text{subject to} & Ax & \\leq b \\\\& & x & \\geq 0\\end{align}$$\n",
    ">\n",
    ">Suppose that $\\xi^*(b) \\lt \\infty$ for all $b$. Show that the function $\\xi^*(b)$ is concave (a function $f$ on $\\mathbb{R}^m$ is called *concave* if $f\\left(tx+(1−t)y\\right) \\geq tf(x)+(1−t)f(y)$ for all $x$ and $y$ in $\\mathbb{R}^m$ and all $0 \\lt t \\lt 1$). *Hint: Consider the dual problem.*\n",
    "\n",
    "We must show that for any pair of $b_i \\in \\mathbb{R}^m$ such that $\\xi^*(b) \\lt \\infty$, \n",
    "\n",
    "$$\\xi^*\\left(t b_1 + (1-t) b_2 \\right) \\geq t \\xi^*\\left(b_1\\right)+ (1-t) \\xi^*\\left(b_2\\right)\\tag{♥}$$\n",
    "\n",
    "See <a href=\"#simpler\">a simpler approach</a> below for a succinct proof; for now, I explain how I thought things through.\n",
    "\n",
    "$(♥)$ says that the optimal objective value associated with a convex combination of $b_i$s is greater than or equal to the same convex combination of the optimal objective values of the $b_i$s taken separately. \n",
    "\n",
    "**Case 1:** $b_1$ and $b_2$ yield the same optimal basis.\n",
    "\n",
    "Let $\\Delta b = b_2 - b_1$. Then the left side of $(♥)$ can be written as $\\xi^*\\left(b_2 - t\\Delta b\\right)$. We know (from a previous chapter on sensitivity analysis) that the optimal dictionary remains optimal for $t \\in (0,1)$.\n",
    "\n",
    "Let $c_\\mathcal{B}$ denote the costs associated with the basic variables and $B$ denote the basis matrix in this optimal dictionary. Then the cost associated with a combination of $b_1$ and $b_2$ is\n",
    "\n",
    "$$\\begin{align}\n",
    "\\xi^*\\left( t b_1 + (1-t) b_2 \\right) & = c_\\mathcal{B}^T B^{-1} \\left( t b_1 + (1-t) b_2 \\right) \\\\\n",
    "& = t c_\\mathcal{B}^T B^{-1} \\left( t b_1 \\right) + (1-t) c_\\mathcal{B}^T B^{-1} \\left(  b_2 \\right) \\\\\n",
    "& = t \\xi^*\\left(b_1\\right)+ (1-t) \\xi^*\\left(b_2\\right)\n",
    "\\end{align}$$\n",
    "\n",
    "and equality holds in $(♥)$. Therefore, the objective value for $t$ in this range is just the corresponding linear interpolation of the objective values associated with $b_1$ and $b_2$.\n",
    "\n",
    "I visualize it like this:\n"
   ]
  },
  {
   "cell_type": "code",
   "execution_count": 3,
   "metadata": {},
   "outputs": [
    {
     "data": {
      "text/plain": [
       "<matplotlib.legend.Legend at 0x1cec71bda58>"
      ]
     },
     "execution_count": 3,
     "metadata": {},
     "output_type": "execute_result"
    },
    {
     "data": {
      "image/png": "[encoded data removed]",
      "text/plain": [
       "<Figure size 720x576 with 1 Axes>"
      ]
     },
     "metadata": {},
     "output_type": "display_data"
    }
   ],
   "source": [
    "x, y = [1, 2],[2,3]\n",
    "x2, y2 = [1, 1.3, 2], [2, 3.1, 3]\n",
    "\n",
    "plt.rcParams.update({'font.size': 18})\n",
    "plt.figure(figsize=(10,8),facecolor='white')\n",
    "plt.plot(x, y, label=r'$y = t \\xi^*\\left(b_1\\right)+ (1-t) \\xi^*\\left(b_2\\right)$')\n",
    "plt.scatter(x, y, color=\"black\")\n",
    "\n",
    "plt.xticks(x, labels=[\"$b_2$\\n$(t=0)$\", \"$b_1$\\n$(t=1)$\"])\n",
    "plt.yticks(np.arange(5), labels=[])\n",
    "plt.xlim(0.5, 2.5)\n",
    "plt.ylim(0,5)\n",
    "plt.legend()"
   ]
  },
  {
   "cell_type": "markdown",
   "metadata": {},
   "source": [
    "**Case 2:** $b_1$ and $b_2$ yield different optimal bases.\n",
    "\n",
    "Referring again to sensitivity analysis, there will be a value (or several) of $t \\in [0,1]$ where a change of basis (pivot) is required. Since the basis changes, so do the cost coefficients in $c_\\mathcal{B}$, and the objective function will not increase or decrease at the same rate.\n",
    "\n",
    "The graph of $\\xi^*$ now looks like this (in orange), and we can compare it to the line given by a simple linear interpolation of the optimal objective values associated with $b_1$ and $b_2$. "
   ]
  },
  {
   "cell_type": "code",
   "execution_count": 5,
   "metadata": {},
   "outputs": [
    {
     "data": {
      "text/plain": [
       "<matplotlib.legend.Legend at 0x1cec73b06d8>"
      ]
     },
     "execution_count": 5,
     "metadata": {},
     "output_type": "execute_result"
    },
    {
     "data": {
      "image/png": "[encoded data removed]",
      "text/plain": [
       "<Figure size 720x576 with 1 Axes>"
      ]
     },
     "metadata": {},
     "output_type": "display_data"
    }
   ],
   "source": [
    "plt.rcParams.update({'font.size': 18})\n",
    "plt.figure(figsize=(10,8),facecolor='white')\n",
    "plt.plot(x, y, label=r'$y = t \\xi^*\\left(b_1\\right)+ (1-t) \\xi^*\\left(b_2\\right)$')\n",
    "plt.scatter(x, y, color=\"black\")\n",
    "\n",
    "plt.plot(x2, y2, label=r'$y= \\xi^*\\left(t b_1 + (1-t) b_2 \\right)$')\n",
    "plt.scatter(x2, y2, color=\"black\")\n",
    "plt.annotate('“bend” when switching bases', [1.3, 3.3], ha=\"center\", size=14)\n",
    "\n",
    "plt.xticks(x, labels=[\"$b_2$\\n$(t=0)$\", \"$b_1$\\n$(t=1)$\"])\n",
    "plt.yticks(np.arange(5), labels=[])\n",
    "plt.xlim(0.5, 2.5)\n",
    "plt.ylim(0,5)\n",
    "plt.legend()"
   ]
  },
  {
   "cell_type": "markdown",
   "metadata": {},
   "source": [
    "The problem asks us to show that\n",
    "\n",
    "$$\\text{orange line} \\geq \\text{blue line}$$\n",
    "\n",
    "for all pairs of $b_i$. This is true in the graph above, but to complete the proof, we need to show that the orange line will not have its &ldquo;bend&rdquo; on the other side of the blue line, violating the inequality. \n",
    "\n",
    "<span id=\"simpler\">**A simpler approach**</span> was suggested on <a href=\"https://math.stackexchange.com/questions/3569984/proof-that-xib-is-concave-for-arbitrary-b-in-a-linear-program\">Stack Exchange</a>. The proof below stands on its own:\n",
    "\n",
    "For $b_1$, the simplex method guarantees an optimal primal solution $x_1$ and optimal dual solution $y_1$ with corresponding costs $c^T x_1 = b_1^T y_1$. Perturb $b_1$ to $t b_1 + (1-t) b_2$. Then $y_1$ remains dual feasible, and $(t b_1 + (1-t) b_2)^T y_1$ provides a lower bound for the optimal objective value of this new problem. \n",
    "\n",
    "That is, \n",
    "\n",
    "$$\\begin{align}\n",
    "\\xi^*\\left(t b_1 + (1-t) b_2\\right)  \\geq &~(t b_1 + (1-t) b_2)^T y_1 & \\text{because $y_1$ remains dual feasible} \\\\\n",
    "& = t b_1^T y_1 + (1-t) b_2^T y_1 \\\\\n",
    " \\geq &~t b_1^T y_1 + (1-t) b_2^T y_2 & \\text{because $b_2^T y_1 \\geq b_2^T y_2$} \\\\\n",
    "& = t \\xi^*(b_1) + (1-t) \\xi^*(b_2)\n",
    "\\end{align}$$\n",
    "\n",
    "$y_2$ denotes the optimal solution to the problem where $b = b_2$, and we know $b_2^T y_1 \\geq b_2^T y_2$ because it is a minimization problem.\n",
    "\n",
    "This is the claim made in $(♥)$."
   ]
  },
  {
   "cell_type": "code",
   "execution_count": 289,
   "metadata": {},
   "outputs": [],
   "source": [
    "mpl.rcParams.update(mpl.rcParamsDefault)"
   ]
  },
  {
   "cell_type": "markdown",
   "metadata": {},
   "source": [
    "## Performance of the simplex method\n",
    "\n",
    "Reference: Robert J. Vanderbei, *Linear Programming: Foundations and Extensions,* ch. 12.\n",
    "\n",
    "I replicate the performance test of the simplex method given in section 6, which compares the size ($m+n$) of a linear program to the number of iterations of the simplex method used to reach an optimal solution.\n",
    "\n",
    "Here I use Scipy&rsquo;s implementation of the simplex method rather than my own, as the former is faster."
   ]
  },
  {
   "cell_type": "code",
   "execution_count": 309,
   "metadata": {},
   "outputs": [],
   "source": [
    "# Yields a random linear program of chosen size and sparsity (in A and c)\n",
    "def rand_LP(m, n, sparsity = 0.5):\n",
    "    # To guarantee feasibility, ensure that there is a positive x and positive y\n",
    "    x = np.random.rand(n) + 0.1\n",
    "    y = np.random.rand(m) + 0.1\n",
    "    A = np.round( np.random.normal(size=(m,n)) * (np.random.rand(m,n)>=sparsity) , decimals=1)\n",
    "    # such that A x is less than b and A.T y is less than c\n",
    "    b = np.round(  A @ x + np.random.rand(m) + 0.1, decimals=2)\n",
    "    c = np.round(  y @ A - np.random.rand(n) - 0.1, decimals=2)\n",
    "    return c, A, b\n",
    "\n",
    "# Evaluates a bunch of linear programs with m and n chosen from a geometric (I think) distribution\n",
    "# that favors large sizes\n",
    "def tester(size):\n",
    "    mn = []\n",
    "    nit = []\n",
    "    for i in range(size):\n",
    "        # Random n and m between 10 and 500\n",
    "        m = int(10**(1.7*np.random.rand() +1))\n",
    "        n = int(10**(1.7*np.random.rand() +1))\n",
    "        # Random LP of that size\n",
    "        c, A, b = rand_LP(m,n)\n",
    "        # Make sure that A isn't zeros\n",
    "        if not np.all(A==0):\n",
    "            mn.append(m+n)\n",
    "            nit.append(optimize.linprog(c = c, A_ub = A, b_ub= b, options={'tol': 1e-5}).nit)\n",
    "    return np.array(mn), np.array(nit)"
   ]
  },
  {
   "cell_type": "markdown",
   "metadata": {},
   "source": [
    "This is the money cell; it takes a long time to run."
   ]
  },
  {
   "cell_type": "code",
   "execution_count": 318,
   "metadata": {},
   "outputs": [
    {
     "name": "stdout",
     "output_type": "stream",
     "text": [
      "Wall time: 2min 11s\n"
     ]
    }
   ],
   "source": [
    "np.random.seed(670)\n",
    "%time x, y = tester(120)"
   ]
  },
  {
   "cell_type": "markdown",
   "metadata": {},
   "source": [
    "Fit a power model to the data. I tweak Vanderbei&rsquo;s $y = 2^\\alpha(m+n)^\\beta$ to $y = a (m+n)^b - 1$. Shifting the $y$-intercept avoids $\\log 0$ errors in the occasional case that requires 0 iterations."
   ]
  },
  {
   "cell_type": "code",
   "execution_count": 319,
   "metadata": {},
   "outputs": [
    {
     "data": {
      "text/plain": [
       "<matplotlib.legend.Legend at 0x1ced1e77cc0>"
      ]
     },
     "execution_count": 319,
     "metadata": {},
     "output_type": "execute_result"
    },
    {
     "data": {
      "image/png": "[encoded data removed]",
      "text/plain": [
       "<Figure size 800x600 with 1 Axes>"
      ]
     },
     "metadata": {},
     "output_type": "display_data"
    }
   ],
   "source": [
    "ln_a, b = np.linalg.lstsq(np.stack([np.ones_like(x), np.log(x)]).T, np.log(y+1), rcond=None)[0]\n",
    "a = np.exp(ln_a)\n",
    "\n",
    "x_plot = np.linspace(x.min(), x.max(), 101)\n",
    "y_plot = (a * x_plot**b -1)\n",
    "\n",
    "plt.figure(figsize=(8, 6))\n",
    "plt.scatter(x,y, color='black')\n",
    "plt.plot(x_plot, y_plot,\n",
    "         label=r'$y = {} (m+n)^{{{}}} - 1$'.format(np.round(a, decimals=3), np.round(b, decimals=3)),\n",
    "        color = 'forestgreen')\n",
    "plt.xlabel(r'$m+n$')\n",
    "plt.ylabel('iterations')\n",
    "plt.title('Performance of the simplex method')\n",
    "plt.legend()\n",
    "\n",
    "#plt.yscale('log')\n",
    "#plt.xscale('log')"
   ]
  },
  {
   "cell_type": "markdown",
   "metadata": {},
   "source": [
    "My data don&rsquo;t look nearly as clean as Vanderbei&rsquo;s, even if you turn on the log scaling. "
   ]
  },
  {
   "cell_type": "code",
   "execution_count": 25,
   "metadata": {},
   "outputs": [
    {
     "name": "stderr",
     "output_type": "stream",
     "text": [
      "[NbConvertApp] Converting notebook linprog.ipynb to html\n",
      "[NbConvertApp] Writing 401646 bytes to linprog.html\n"
     ]
    }
   ],
   "source": [
    "!jupyter nbconvert linprog.ipynb"
   ]
  }
 ],
 "metadata": {
  "kernelspec": {
   "display_name": "Python 3",
   "language": "python",
   "name": "python3"
  },
  "language_info": {
   "codemirror_mode": {
    "name": "ipython",
    "version": 3
   },
   "file_extension": ".py",
   "mimetype": "text/x-python",
   "name": "python",
   "nbconvert_exporter": "python",
   "pygments_lexer": "ipython3",
   "version": "3.7.3"
  }
 },
 "nbformat": 4,
 "nbformat_minor": 2
}
