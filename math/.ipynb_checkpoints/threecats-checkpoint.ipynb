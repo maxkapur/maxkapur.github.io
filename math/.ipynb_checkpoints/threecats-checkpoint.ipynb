{
 "cells": [
  {
   "cell_type": "code",
   "execution_count": 168,
   "metadata": {},
   "outputs": [],
   "source": [
    "import numpy as np, pandas as pd\n",
    "import matplotlib.pyplot as plt\n",
    "from matplotlib.cm import get_cmap\n",
    "from matplotlib.patches import Patch\n",
    "import seaborn as sns"
   ]
  },
  {
   "cell_type": "code",
   "execution_count": 2,
   "metadata": {},
   "outputs": [],
   "source": [
    "# Make data\n",
    "cities = ['Tijuana','Las Vegas','Los Angeles','Anaheim','Atlantis']\n",
    "occupations = ['Doctor','Lawyer','Engineer','Drone security officer']\n",
    "bloodtypes = ['A','B','AB','O']\n",
    "df = pd.DataFrame({'City': np.random.choice(cities,500),\n",
    "                   'Occupation': np.random.choice(occupations,500),\n",
    "                   'Blood Type':np.random.choice(bloodtypes,500)})"
   ]
  },
  {
   "cell_type": "code",
   "execution_count": 3,
   "metadata": {},
   "outputs": [],
   "source": [
    "# You need to make a dummy column, otherwise the groupby returns an empty df\n",
    "df['Dummy'] = np.ones(500)"
   ]
  },
  {
   "cell_type": "code",
   "execution_count": 12,
   "metadata": {},
   "outputs": [
    {
     "data": {
      "text/html": [
       "<div>\n",
       "<style scoped>\n",
       "    .dataframe tbody tr th:only-of-type {\n",
       "        vertical-align: middle;\n",
       "    }\n",
       "\n",
       "    .dataframe tbody tr th {\n",
       "        vertical-align: top;\n",
       "    }\n",
       "\n",
       "    .dataframe thead tr th {\n",
       "        text-align: left;\n",
       "    }\n",
       "\n",
       "    .dataframe thead tr:last-of-type th {\n",
       "        text-align: right;\n",
       "    }\n",
       "</style>\n",
       "<table border=\"1\" class=\"dataframe\">\n",
       "  <thead>\n",
       "    <tr>\n",
       "      <th></th>\n",
       "      <th></th>\n",
       "      <th colspan=\"4\" halign=\"left\">Dummy</th>\n",
       "    </tr>\n",
       "    <tr>\n",
       "      <th></th>\n",
       "      <th>Blood Type</th>\n",
       "      <th>A</th>\n",
       "      <th>AB</th>\n",
       "      <th>B</th>\n",
       "      <th>O</th>\n",
       "    </tr>\n",
       "    <tr>\n",
       "      <th>City</th>\n",
       "      <th>Occupation</th>\n",
       "      <th></th>\n",
       "      <th></th>\n",
       "      <th></th>\n",
       "      <th></th>\n",
       "    </tr>\n",
       "  </thead>\n",
       "  <tbody>\n",
       "    <tr>\n",
       "      <th rowspan=\"4\" valign=\"top\">Anaheim</th>\n",
       "      <th>Doctor</th>\n",
       "      <td>6</td>\n",
       "      <td>6</td>\n",
       "      <td>9</td>\n",
       "      <td>3</td>\n",
       "    </tr>\n",
       "    <tr>\n",
       "      <th>Drone security officer</th>\n",
       "      <td>7</td>\n",
       "      <td>10</td>\n",
       "      <td>6</td>\n",
       "      <td>3</td>\n",
       "    </tr>\n",
       "    <tr>\n",
       "      <th>Engineer</th>\n",
       "      <td>6</td>\n",
       "      <td>8</td>\n",
       "      <td>5</td>\n",
       "      <td>6</td>\n",
       "    </tr>\n",
       "    <tr>\n",
       "      <th>Lawyer</th>\n",
       "      <td>8</td>\n",
       "      <td>5</td>\n",
       "      <td>4</td>\n",
       "      <td>9</td>\n",
       "    </tr>\n",
       "    <tr>\n",
       "      <th rowspan=\"4\" valign=\"top\">Atlantis</th>\n",
       "      <th>Doctor</th>\n",
       "      <td>5</td>\n",
       "      <td>7</td>\n",
       "      <td>3</td>\n",
       "      <td>5</td>\n",
       "    </tr>\n",
       "    <tr>\n",
       "      <th>Drone security officer</th>\n",
       "      <td>6</td>\n",
       "      <td>4</td>\n",
       "      <td>4</td>\n",
       "      <td>8</td>\n",
       "    </tr>\n",
       "    <tr>\n",
       "      <th>Engineer</th>\n",
       "      <td>5</td>\n",
       "      <td>9</td>\n",
       "      <td>9</td>\n",
       "      <td>10</td>\n",
       "    </tr>\n",
       "    <tr>\n",
       "      <th>Lawyer</th>\n",
       "      <td>10</td>\n",
       "      <td>1</td>\n",
       "      <td>4</td>\n",
       "      <td>9</td>\n",
       "    </tr>\n",
       "    <tr>\n",
       "      <th rowspan=\"4\" valign=\"top\">Las Vegas</th>\n",
       "      <th>Doctor</th>\n",
       "      <td>5</td>\n",
       "      <td>5</td>\n",
       "      <td>3</td>\n",
       "      <td>6</td>\n",
       "    </tr>\n",
       "    <tr>\n",
       "      <th>Drone security officer</th>\n",
       "      <td>6</td>\n",
       "      <td>4</td>\n",
       "      <td>9</td>\n",
       "      <td>3</td>\n",
       "    </tr>\n",
       "    <tr>\n",
       "      <th>Engineer</th>\n",
       "      <td>10</td>\n",
       "      <td>6</td>\n",
       "      <td>8</td>\n",
       "      <td>4</td>\n",
       "    </tr>\n",
       "    <tr>\n",
       "      <th>Lawyer</th>\n",
       "      <td>7</td>\n",
       "      <td>7</td>\n",
       "      <td>3</td>\n",
       "      <td>5</td>\n",
       "    </tr>\n",
       "    <tr>\n",
       "      <th rowspan=\"4\" valign=\"top\">Los Angeles</th>\n",
       "      <th>Doctor</th>\n",
       "      <td>2</td>\n",
       "      <td>6</td>\n",
       "      <td>8</td>\n",
       "      <td>8</td>\n",
       "    </tr>\n",
       "    <tr>\n",
       "      <th>Drone security officer</th>\n",
       "      <td>5</td>\n",
       "      <td>12</td>\n",
       "      <td>10</td>\n",
       "      <td>4</td>\n",
       "    </tr>\n",
       "    <tr>\n",
       "      <th>Engineer</th>\n",
       "      <td>7</td>\n",
       "      <td>8</td>\n",
       "      <td>4</td>\n",
       "      <td>13</td>\n",
       "    </tr>\n",
       "    <tr>\n",
       "      <th>Lawyer</th>\n",
       "      <td>4</td>\n",
       "      <td>5</td>\n",
       "      <td>3</td>\n",
       "      <td>8</td>\n",
       "    </tr>\n",
       "    <tr>\n",
       "      <th rowspan=\"4\" valign=\"top\">Tijuana</th>\n",
       "      <th>Doctor</th>\n",
       "      <td>7</td>\n",
       "      <td>6</td>\n",
       "      <td>5</td>\n",
       "      <td>5</td>\n",
       "    </tr>\n",
       "    <tr>\n",
       "      <th>Drone security officer</th>\n",
       "      <td>5</td>\n",
       "      <td>9</td>\n",
       "      <td>4</td>\n",
       "      <td>5</td>\n",
       "    </tr>\n",
       "    <tr>\n",
       "      <th>Engineer</th>\n",
       "      <td>8</td>\n",
       "      <td>3</td>\n",
       "      <td>9</td>\n",
       "      <td>3</td>\n",
       "    </tr>\n",
       "    <tr>\n",
       "      <th>Lawyer</th>\n",
       "      <td>7</td>\n",
       "      <td>14</td>\n",
       "      <td>4</td>\n",
       "      <td>8</td>\n",
       "    </tr>\n",
       "  </tbody>\n",
       "</table>\n",
       "</div>"
      ],
      "text/plain": [
       "                                   Dummy            \n",
       "Blood Type                             A  AB   B   O\n",
       "City        Occupation                              \n",
       "Anaheim     Doctor                     6   6   9   3\n",
       "            Drone security officer     7  10   6   3\n",
       "            Engineer                   6   8   5   6\n",
       "            Lawyer                     8   5   4   9\n",
       "Atlantis    Doctor                     5   7   3   5\n",
       "            Drone security officer     6   4   4   8\n",
       "            Engineer                   5   9   9  10\n",
       "            Lawyer                    10   1   4   9\n",
       "Las Vegas   Doctor                     5   5   3   6\n",
       "            Drone security officer     6   4   9   3\n",
       "            Engineer                  10   6   8   4\n",
       "            Lawyer                     7   7   3   5\n",
       "Los Angeles Doctor                     2   6   8   8\n",
       "            Drone security officer     5  12  10   4\n",
       "            Engineer                   7   8   4  13\n",
       "            Lawyer                     4   5   3   8\n",
       "Tijuana     Doctor                     7   6   5   5\n",
       "            Drone security officer     5   9   4   5\n",
       "            Engineer                   8   3   9   3\n",
       "            Lawyer                     7  14   4   8"
      ]
     },
     "execution_count": 12,
     "metadata": {},
     "output_type": "execute_result"
    }
   ],
   "source": [
    "# This is now what I'd like to plot\n",
    "grouped = df.groupby(by=['City','Occupation','Blood Type']).count().unstack()\n",
    "grouped"
   ]
  },
  {
   "cell_type": "code",
   "execution_count": 118,
   "metadata": {},
   "outputs": [
    {
     "data": {
      "text/plain": [
       "Index(['A', 'AB', 'B', 'O'], dtype='object', name='Blood Type')"
      ]
     },
     "execution_count": 118,
     "metadata": {},
     "output_type": "execute_result"
    }
   ],
   "source": [
    "# List of blood types, to use later as categories in subplots\n",
    "kinds = grouped.columns.levels[1]\n",
    "kinds"
   ]
  },
  {
   "cell_type": "code",
   "execution_count": 119,
   "metadata": {},
   "outputs": [
    {
     "data": {
      "text/plain": [
       "4"
      ]
     },
     "execution_count": 119,
     "metadata": {},
     "output_type": "execute_result"
    }
   ],
   "source": [
    "len(kinds)"
   ]
  },
  {
   "cell_type": "code",
   "execution_count": 121,
   "metadata": {},
   "outputs": [
    {
     "data": {
      "text/plain": [
       "[(0.267004, 0.004874, 0.329415, 1.0),\n",
       " (0.190631, 0.407061, 0.556089, 1.0),\n",
       " (0.20803, 0.718701, 0.472873, 1.0),\n",
       " (0.993248, 0.906157, 0.143936, 1.0)]"
      ]
     },
     "execution_count": 121,
     "metadata": {},
     "output_type": "execute_result"
    }
   ],
   "source": [
    "# colors for bar graph\n",
    "colors = [get_cmap('viridis')(v) for v in np.linspace(0,1,len(kinds))]\n",
    "colors"
   ]
  },
  {
   "cell_type": "code",
   "execution_count": 43,
   "metadata": {},
   "outputs": [
    {
     "data": {
      "text/plain": [
       "       Blood Type\n",
       "Dummy  A             6\n",
       "       AB            6\n",
       "       B             9\n",
       "       O             3\n",
       "Name: (Anaheim, Doctor), dtype: int64"
      ]
     },
     "execution_count": 43,
     "metadata": {},
     "output_type": "execute_result"
    }
   ],
   "source": [
    "grouped.loc['Anaheim','Doctor']"
   ]
  },
  {
   "cell_type": "code",
   "execution_count": 57,
   "metadata": {},
   "outputs": [
    {
     "data": {
      "text/plain": [
       "       Blood Type\n",
       "Dummy  A             6\n",
       "       AB            4\n",
       "       B             4\n",
       "       O             8\n",
       "Name: (Atlantis, Drone security officer), dtype: int64"
      ]
     },
     "execution_count": 57,
     "metadata": {},
     "output_type": "execute_result"
    }
   ],
   "source": [
    "grouped.loc[grouped.index.levels[0][1],grouped.index.levels[1][1]]"
   ]
  },
  {
   "cell_type": "code",
   "execution_count": 183,
   "metadata": {},
   "outputs": [
    {
     "data": {
      "text/plain": [
       "<matplotlib.legend.Legend at 0x169131d0>"
      ]
     },
     "execution_count": 183,
     "metadata": {},
     "output_type": "execute_result"
    },
    {
     "data": {
      "image/png": "[encoded data removed]",
      "text/plain": [
       "<Figure size 720x720 with 21 Axes>"
      ]
     },
     "metadata": {},
     "output_type": "display_data"
    }
   ],
   "source": [
    "sns.set(context=\"talk\")\n",
    "nxplots = len(grouped.index.levels[0])\n",
    "nyplots = len(grouped.index.levels[1])\n",
    "fig, axes = plt.subplots(nxplots,\n",
    "                         nyplots,\n",
    "                         sharey=True,\n",
    "                         sharex=True,\n",
    "                         figsize=(10,10))\n",
    "\n",
    "\n",
    "# x- and y-axis labels\n",
    "for i, j in enumerate(grouped.index.levels[1]):\n",
    "    axes[nyplots,i].set_xlabel(j)\n",
    "for i, j in enumerate(grouped.index.levels[0]):\n",
    "    axes[i,0].set_ylabel(j)\n",
    "\n",
    "# plot the data\n",
    "pltn=[]\n",
    "for a, b in enumerate(grouped.index.levels[0]):\n",
    "    for i, j in enumerate(grouped.index.levels[1]):\n",
    "        pltn.append(axes[a,i].bar(kinds,grouped.loc[b,j],color=colors))\n",
    "\n",
    "globaltitle = fig.add_subplot(111, frameon=False)\n",
    "plt.tick_params(labelcolor='none', top=False, bottom=False, left=False, right=False)\n",
    "plt.grid(False)\n",
    "globaltitle.set_ylabel('City')\n",
    "globaltitle.set_xlabel('Occupation')\n",
    "        \n",
    "fig.legend([Patch(facecolor = i) for i in colors],\n",
    "           kinds,\n",
    "           loc='upper right',\n",
    "           title=\"Blood type\")"
   ]
  },
  {
   "cell_type": "code",
   "execution_count": 167,
   "metadata": {},
   "outputs": [
    {
     "data": {
      "text/plain": [
       "[((0.267004, 0.004874, 0.329415, 1.0), 'A'),\n",
       " ((0.190631, 0.407061, 0.556089, 1.0), 'AB'),\n",
       " ((0.20803, 0.718701, 0.472873, 1.0), 'B'),\n",
       " ((0.993248, 0.906157, 0.143936, 1.0), 'O')]"
      ]
     },
     "execution_count": 167,
     "metadata": {},
     "output_type": "execute_result"
    }
   ],
   "source": [
    "list(zip(colors,kinds))"
   ]
  },
  {
   "cell_type": "code",
   "execution_count": 174,
   "metadata": {},
   "outputs": [
    {
     "data": {
      "text/plain": [
       "[<matplotlib.patches.Patch at 0x12c62d50>,\n",
       " <matplotlib.patches.Patch at 0x154dcdb0>,\n",
       " <matplotlib.patches.Patch at 0x1557f390>,\n",
       " <matplotlib.patches.Patch at 0x154e7530>]"
      ]
     },
     "execution_count": 174,
     "metadata": {},
     "output_type": "execute_result"
    }
   ],
   "source": [
    "[Patch(facecolor = i[0], label = i[1]) for i in zip(colors,kinds)]"
   ]
  },
  {
   "cell_type": "code",
   "execution_count": 173,
   "metadata": {},
   "outputs": [
    {
     "name": "stdout",
     "output_type": "stream",
     "text": [
      "(0.267004, 0.004874, 0.329415, 1.0)\n",
      "(0.190631, 0.407061, 0.556089, 1.0)\n",
      "(0.20803, 0.718701, 0.472873, 1.0)\n",
      "(0.993248, 0.906157, 0.143936, 1.0)\n"
     ]
    }
   ],
   "source": [
    "for i in zip(colors,kinds):\n",
    "    print(i[0])"
   ]
  }
 ],
 "metadata": {
  "kernelspec": {
   "display_name": "Python 3",
   "language": "python",
   "name": "python3"
  },
  "language_info": {
   "codemirror_mode": {
    "name": "ipython",
    "version": 3
   },
   "file_extension": ".py",
   "mimetype": "text/x-python",
   "name": "python",
   "nbconvert_exporter": "python",
   "pygments_lexer": "ipython3",
   "version": "3.6.8"
  }
 },
 "nbformat": 4,
 "nbformat_minor": 2
}
