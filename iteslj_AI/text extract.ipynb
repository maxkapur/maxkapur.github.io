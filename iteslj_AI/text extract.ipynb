{
 "cells": [
  {
   "cell_type": "code",
   "execution_count": 1,
   "metadata": {},
   "outputs": [],
   "source": [
    "from bs4 import BeautifulSoup\n",
    "import requests"
   ]
  },
  {
   "cell_type": "code",
   "execution_count": 2,
   "metadata": {},
   "outputs": [],
   "source": [
    "urls=[]\n",
    "fp=requests.get(\"http://iteslj.org/questions/\").text\n",
    "soup = BeautifulSoup(fp)\n",
    "for a in soup.find('table')('a'):\n",
    "    urls.append(\"http://iteslj.org/questions/\"+a['href'])"
   ]
  },
  {
   "cell_type": "code",
   "execution_count": 3,
   "metadata": {},
   "outputs": [
    {
     "data": {
      "text/plain": [
       "['http://iteslj.org/questions/accidents.html',\n",
       " 'http://iteslj.org/questions/adoption.html',\n",
       " 'http://iteslj.org/questions/advertising.html',\n",
       " 'http://iteslj.org/questions/advice.html',\n",
       " 'http://iteslj.org/questions/age.html']"
      ]
     },
     "execution_count": 3,
     "metadata": {},
     "output_type": "execute_result"
    }
   ],
   "source": [
    "urls[:5]"
   ]
  },
  {
   "cell_type": "code",
   "execution_count": 4,
   "metadata": {},
   "outputs": [],
   "source": [
    "result=\"\"\n",
    "for u in urls[1:]: # Trimming the first URL cuz it has a really long list\n",
    "    # Download the page\n",
    "    fp=requests.get(u).text\n",
    "    # Make the soup\n",
    "    soup = BeautifulSoup(fp)\n",
    "    # Extract the title\n",
    "    result= result+\"\\n\\n\"+\"[\"+soup.find('h1').contents[2].replace(\"\\n\",\"\").replace(\"\\r\",\"\")+\"]\\n\"\n",
    "    # Extract the text and append\n",
    "    for ert in soup.find_all(\"li\"):\n",
    "        for alp in ert.find_all(\"li\"):\n",
    "            alp.insert(0,\"\\n\\t\")\n",
    "    for te in soup.find_all(\"ul\"):\n",
    "        result= result+ te.text"
   ]
  },
  {
   "cell_type": "code",
   "execution_count": 248,
   "metadata": {},
   "outputs": [],
   "source": [
    "# print(result)"
   ]
  },
  {
   "cell_type": "code",
   "execution_count": 6,
   "metadata": {},
   "outputs": [],
   "source": [
    "with open(\"cleantext.txt\",\"wb\") as file:\n",
    "    file.write(result.encode('ascii',\"ignore\"))"
   ]
  },
  {
   "cell_type": "code",
   "execution_count": null,
   "metadata": {},
   "outputs": [],
   "source": []
  }
 ],
 "metadata": {
  "kernelspec": {
   "display_name": "Python 3",
   "language": "python",
   "name": "python3"
  },
  "language_info": {
   "codemirror_mode": {
    "name": "ipython",
    "version": 3
   },
   "file_extension": ".py",
   "mimetype": "text/x-python",
   "name": "python",
   "nbconvert_exporter": "python",
   "pygments_lexer": "ipython3",
   "version": "3.6.8"
  }
 },
 "nbformat": 4,
 "nbformat_minor": 2
}
